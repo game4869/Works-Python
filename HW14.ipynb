{
 "cells": [
  {
   "cell_type": "code",
   "execution_count": 2,
   "id": "3d5697b9",
   "metadata": {
    "scrolled": true
   },
   "outputs": [
    {
     "ename": "error",
     "evalue": "OpenCV(4.5.4-dev) D:\\a\\opencv-python\\opencv-python\\opencv\\modules\\imgproc\\src\\color.cpp:182: error: (-215:Assertion failed) !_src.empty() in function 'cv::cvtColor'\n",
     "output_type": "error",
     "traceback": [
      "\u001b[1;31m---------------------------------------------------------------------------\u001b[0m",
      "\u001b[1;31merror\u001b[0m                                     Traceback (most recent call last)",
      "\u001b[1;32m~\\AppData\\Local\\Temp/ipykernel_10228/1347121729.py\u001b[0m in \u001b[0;36m<module>\u001b[1;34m\u001b[0m\n\u001b[0;32m     28\u001b[0m     \u001b[0mtempo\u001b[0m \u001b[1;33m=\u001b[0m \u001b[0mfloat\u001b[0m\u001b[1;33m(\u001b[0m\u001b[1;36m1\u001b[0m\u001b[1;33m/\u001b[0m\u001b[0mdelay\u001b[0m\u001b[1;33m)\u001b[0m\u001b[1;33m\u001b[0m\u001b[1;33m\u001b[0m\u001b[0m\n\u001b[0;32m     29\u001b[0m     \u001b[0msleep\u001b[0m\u001b[1;33m(\u001b[0m\u001b[0mtempo\u001b[0m\u001b[1;33m)\u001b[0m\u001b[1;33m\u001b[0m\u001b[1;33m\u001b[0m\u001b[0m\n\u001b[1;32m---> 30\u001b[1;33m     \u001b[0mgrey\u001b[0m \u001b[1;33m=\u001b[0m \u001b[0mcv2\u001b[0m\u001b[1;33m.\u001b[0m\u001b[0mcvtColor\u001b[0m\u001b[1;33m(\u001b[0m\u001b[0mframe1\u001b[0m\u001b[1;33m,\u001b[0m\u001b[0mcv2\u001b[0m\u001b[1;33m.\u001b[0m\u001b[0mCOLOR_BGR2GRAY\u001b[0m\u001b[1;33m)\u001b[0m\u001b[1;33m\u001b[0m\u001b[1;33m\u001b[0m\u001b[0m\n\u001b[0m\u001b[0;32m     31\u001b[0m     \u001b[0mblur\u001b[0m \u001b[1;33m=\u001b[0m \u001b[0mcv2\u001b[0m\u001b[1;33m.\u001b[0m\u001b[0mGaussianBlur\u001b[0m\u001b[1;33m(\u001b[0m\u001b[0mgrey\u001b[0m\u001b[1;33m,\u001b[0m\u001b[1;33m(\u001b[0m\u001b[1;36m3\u001b[0m\u001b[1;33m,\u001b[0m\u001b[1;36m3\u001b[0m\u001b[1;33m)\u001b[0m\u001b[1;33m,\u001b[0m\u001b[1;36m5\u001b[0m\u001b[1;33m)\u001b[0m\u001b[1;33m\u001b[0m\u001b[1;33m\u001b[0m\u001b[0m\n\u001b[0;32m     32\u001b[0m     \u001b[0mimg_sub\u001b[0m \u001b[1;33m=\u001b[0m \u001b[0msubtracao\u001b[0m\u001b[1;33m.\u001b[0m\u001b[0mapply\u001b[0m\u001b[1;33m(\u001b[0m\u001b[0mblur\u001b[0m\u001b[1;33m)\u001b[0m\u001b[1;33m\u001b[0m\u001b[1;33m\u001b[0m\u001b[0m\n",
      "\u001b[1;31merror\u001b[0m: OpenCV(4.5.4-dev) D:\\a\\opencv-python\\opencv-python\\opencv\\modules\\imgproc\\src\\color.cpp:182: error: (-215:Assertion failed) !_src.empty() in function 'cv::cvtColor'\n"
     ]
    }
   ],
   "source": [
    "import cv2\n",
    "import numpy as np\n",
    "from time import sleep\n",
    "\n",
    "largura_min=80 \n",
    "altura_min=80 \n",
    "offset=6 \n",
    "\n",
    "pos_linha=550 \n",
    "\n",
    "delay= 60 \n",
    "\n",
    "detec = []\n",
    "carros= 0\n",
    "\n",
    "def pega_centro(x, y, w, h):\n",
    "    x1 = int(w / 2)\n",
    "    y1 = int(h / 2)\n",
    "    cx = x + x1\n",
    "    cy = y + y1\n",
    "    return cx,cy\n",
    "\n",
    "cap = cv2.VideoCapture(\"C:/Users/DELL/OneDrive - King Mongkut’s University of Technology Thonburi (KMUTT)/Documents/DMT350/Data/Road traffic.mp4\")\n",
    "subtracao = cv2.bgsegm.createBackgroundSubtractorMOG()\n",
    "\n",
    "while True:\n",
    "    ret , frame1 = cap.read()\n",
    "    tempo = float(1/delay)\n",
    "    sleep(tempo) \n",
    "    grey = cv2.cvtColor(frame1,cv2.COLOR_BGR2GRAY)\n",
    "    blur = cv2.GaussianBlur(grey,(3,3),5)\n",
    "    img_sub = subtracao.apply(blur)\n",
    "    dilat = cv2.dilate(img_sub,np.ones((5,5)))\n",
    "    kernel = cv2.getStructuringElement(cv2.MORPH_ELLIPSE, (5, 5))\n",
    "    dilatada = cv2.morphologyEx (dilat, cv2. MORPH_CLOSE , kernel)\n",
    "    dilatada = cv2.morphologyEx (dilatada, cv2. MORPH_CLOSE , kernel)\n",
    "    contorno,h=cv2.findContours(dilatada,cv2.RETR_TREE,cv2.CHAIN_APPROX_SIMPLE)\n",
    "    \n",
    "    cv2.line(frame1, (25, pos_linha), (1200, pos_linha), (255,255,255), 1) \n",
    "    for(i,c) in enumerate(contorno):\n",
    "        (x,y,w,h) = cv2.boundingRect(c)\n",
    "        validar_contorno = (w >= largura_min) and (h >= altura_min)\n",
    "        if not validar_contorno:\n",
    "            continue\n",
    "\n",
    "        cv2.rectangle(frame1,(x,y),(x+w,y+h),(0,255,0),2)        \n",
    "        centro = pega_centro(x, y, w, h)\n",
    "        detec.append(centro)\n",
    "        cv2.circle(frame1, centro, 4, (0, 0,255), -1)\n",
    "\n",
    "        for (x,y) in detec:\n",
    "            if y<(pos_linha+offset) and y>(pos_linha-offset):\n",
    "                carros+=1\n",
    "                cv2.line(frame1, (25, pos_linha), (1200, pos_linha), (0,0,0), 1)  \n",
    "                detec.remove((x,y))\n",
    "                print(\"car is detected : \"+str(carros))        \n",
    "       \n",
    "    cv2.putText(frame1, \"VEHICLE COUNT : \"+str(carros), (450, 70), cv2.FONT_HERSHEY_SIMPLEX, 2, (0, 0, 255),5)\n",
    "    cv2.imshow(\"Video Original\" , frame1)\n",
    "    cv2.imshow(\"Detectar\",dilatada)\n",
    "\n",
    "    if cv2.waitKey(1) == 27:\n",
    "        break\n",
    "    \n",
    "cv2.destroyAllWindows()\n",
    "cap.release()"
   ]
  },
  {
   "cell_type": "code",
   "execution_count": null,
   "id": "7b239eae",
   "metadata": {},
   "outputs": [],
   "source": []
  }
 ],
 "metadata": {
  "kernelspec": {
   "display_name": "Python 3 (ipykernel)",
   "language": "python",
   "name": "python3"
  },
  "language_info": {
   "codemirror_mode": {
    "name": "ipython",
    "version": 3
   },
   "file_extension": ".py",
   "mimetype": "text/x-python",
   "name": "python",
   "nbconvert_exporter": "python",
   "pygments_lexer": "ipython3",
   "version": "3.9.7"
  }
 },
 "nbformat": 4,
 "nbformat_minor": 5
}
