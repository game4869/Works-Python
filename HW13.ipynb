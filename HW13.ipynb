{
 "cells": [
  {
   "cell_type": "code",
   "execution_count": null,
   "id": "d84bc8b7",
   "metadata": {},
   "outputs": [],
   "source": [
    "import numpy as np\n",
    "import cv2\n",
    "myName = \" 62120501066 Mr.Wanchana \"\n",
    "img = cv2.imread('C:/Users/DELL/OneDrive - King Mongkut’s University of Technology Thonburi (KMUTT)/Documents/DMT350/week9/home.jfif')\n",
    "Z = img.reshape ((-1,3))\n",
    "Z = np.float32 (Z)\n",
    "K = 2\n",
    "\n",
    "criteria = (cv2. TERM_CRITERIA_EPS+cv2. TERM_CRITERIA_MAX_ITER,10,1.0)\n",
    "ret,label, center=cv2.kmeans (Z,K,None, criteria, 10,cv2.KMEANS_RANDOM_CENTERS)\n",
    "\n",
    "center = np.uint8 (center)\n",
    "res = center[label.flatten ()]\n",
    "res2 = res. reshape((img.shape))\n",
    "\n",
    "cv2.imshow('Res_'+str(K)+myName, res2)\n",
    "cv2.waitKey(0)\n",
    "cv2.destroyAllWindows()"
   ]
  },
  {
   "cell_type": "code",
   "execution_count": null,
   "id": "3a486280",
   "metadata": {},
   "outputs": [],
   "source": [
    "import numpy as np\n",
    "import cv2\n",
    "myName = \" 62120501066 Mr.Wanchana \"\n",
    "img = cv2.imread('C:/Users/DELL/OneDrive - King Mongkut’s University of Technology Thonburi (KMUTT)/Documents/DMT350/week9/home.jfif')\n",
    "Z = img.reshape ((-1,3))\n",
    "Z = np.float32 (Z)\n",
    "K = 4\n",
    "\n",
    "criteria = (cv2. TERM_CRITERIA_EPS+cv2. TERM_CRITERIA_MAX_ITER,10,1.0)\n",
    "ret,label, center=cv2.kmeans (Z,K,None, criteria, 10,cv2.KMEANS_RANDOM_CENTERS)\n",
    "\n",
    "center = np.uint8 (center)\n",
    "res = center[label.flatten ()]\n",
    "res2 = res. reshape((img.shape))\n",
    "\n",
    "cv2.imshow('Res_'+str(K)+myName, res2)\n",
    "cv2.waitKey(0)\n",
    "cv2.destroyAllWindows()"
   ]
  },
  {
   "cell_type": "code",
   "execution_count": 1,
   "id": "a0eb96ea",
   "metadata": {},
   "outputs": [],
   "source": [
    "import numpy as np\n",
    "import cv2\n",
    "myName = \" 62120501066 Mr.Wanchana \"\n",
    "img = cv2.imread('C:/Users/DELL/OneDrive - King Mongkut’s University of Technology Thonburi (KMUTT)/Documents/DMT350/week9/home.jfif')\n",
    "Z = img.reshape ((-1,3))\n",
    "Z = np.float32 (Z)\n",
    "K = 10\n",
    "\n",
    "criteria = (cv2. TERM_CRITERIA_EPS+cv2. TERM_CRITERIA_MAX_ITER,10,1.0)\n",
    "ret,label, center=cv2.kmeans (Z,K,None, criteria, 10,cv2.KMEANS_RANDOM_CENTERS)\n",
    "\n",
    "center = np.uint8 (center)\n",
    "res = center[label.flatten ()]\n",
    "res2 = res. reshape((img.shape))\n",
    "\n",
    "cv2.imshow('Res_'+str(K)+myName, res2)\n",
    "cv2.waitKey(0)\n",
    "cv2.destroyAllWindows()"
   ]
  },
  {
   "cell_type": "code",
   "execution_count": null,
   "id": "e98eb2f2",
   "metadata": {},
   "outputs": [],
   "source": [
    "import cv2\n",
    "import datetime\n",
    "cap=cv2.VideoCapture(0)\n",
    "while True:\n",
    "        ret,image=cap.read()\n",
    "        cv2. imshow('Image SHOW',image)\n",
    "        pressedKey = cv2.waitKey(1)\n",
    "        if pressedKey ==ord('q'): \n",
    "            break\n",
    "        elif pressedKey==ord('s'):\n",
    "            now=datetime.datetime.now().strftime('%d%m%y_%H%M%S')\n",
    "            cv2.imwrite('C:/Users/DELL/OneDrive - King Mongkut’s University of Technology Thonburi (KMUTT)/Documents/DMT350/week9/cap_'+str(now)+'.jpg ', image)\n",
    "cap.release\n",
    "cv2.destroyAllWindows()"
   ]
  },
  {
   "cell_type": "code",
   "execution_count": null,
   "id": "03209a5a",
   "metadata": {},
   "outputs": [],
   "source": [
    "import numpy as np\n",
    "import cv2\n",
    "myName = \" 62120501066 Mr.Wanchana \"\n",
    "img = cv2.imread('C:/Users/DELL/OneDrive - King Mongkut’s University of Technology Thonburi (KMUTT)/Documents/DMT350/week9/cap_111121_123034.jpg')\n",
    "Z = img.reshape ((-1,3))\n",
    "Z = np.float32 (Z)\n",
    "K = 4\n",
    "\n",
    "criteria = (cv2. TERM_CRITERIA_EPS+cv2. TERM_CRITERIA_MAX_ITER,10,1.0)\n",
    "ret,label, center=cv2.kmeans (Z,K,None, criteria, 10,cv2.KMEANS_RANDOM_CENTERS)\n",
    "\n",
    "center = np.uint8 (center)\n",
    "res = center[label.flatten ()]\n",
    "res2 = res. reshape((img.shape))\n",
    "\n",
    "cv2.imshow('Res_'+str(K)+myName, res2)\n",
    "cv2.waitKey(0)\n",
    "cv2.destroyAllWindows()"
   ]
  },
  {
   "cell_type": "code",
   "execution_count": 2,
   "id": "13f48d70",
   "metadata": {},
   "outputs": [],
   "source": [
    "import numpy as np\n",
    "import cv2\n",
    "myName = \" 62120501066 Mr.Wanchana \"\n",
    "img = cv2.imread('C:/Users/DELL/OneDrive - King Mongkut’s University of Technology Thonburi (KMUTT)/Documents/DMT350/week9/cap_111121_123034.jpg')\n",
    "Z = img.reshape ((-1,3))\n",
    "Z = np.float32 (Z)\n",
    "K = 6\n",
    "\n",
    "criteria = (cv2. TERM_CRITERIA_EPS+cv2. TERM_CRITERIA_MAX_ITER,10,1.0)\n",
    "ret,label, center=cv2.kmeans (Z,K,None, criteria, 10,cv2.KMEANS_RANDOM_CENTERS)\n",
    "\n",
    "center = np.uint8 (center)\n",
    "res = center[label.flatten ()]\n",
    "res2 = res. reshape((img.shape))\n",
    "\n",
    "cv2.imshow('Res_'+str(K)+myName, res2)\n",
    "cv2.waitKey(0)\n",
    "cv2.destroyAllWindows()"
   ]
  },
  {
   "cell_type": "code",
   "execution_count": null,
   "id": "bd289fa3",
   "metadata": {},
   "outputs": [],
   "source": [
    "import numpy as np\n",
    "import cv2\n",
    "myName = \" 62120501066 Mr.Wanchana \"\n",
    "img = cv2.imread('C:/Users/DELL/OneDrive - King Mongkut’s University of Technology Thonburi (KMUTT)/Documents/DMT350/week9/cap_111121_123034.jpg')\n",
    "Z = img.reshape ((-1,3))\n",
    "Z = np.float32 (Z)\n",
    "K = 10\n",
    "\n",
    "criteria = (cv2. TERM_CRITERIA_EPS+cv2. TERM_CRITERIA_MAX_ITER,10,1.0)\n",
    "ret,label, center=cv2.kmeans (Z,K,None, criteria, 10,cv2.KMEANS_RANDOM_CENTERS)\n",
    "\n",
    "center = np.uint8 (center)\n",
    "res = center[label.flatten ()]\n",
    "res2 = res. reshape((img.shape))\n",
    "\n",
    "cv2.imshow('Res_'+str(K)+myName, res2)\n",
    "cv2.waitKey(0)\n",
    "cv2.destroyAllWindows()"
   ]
  },
  {
   "cell_type": "code",
   "execution_count": null,
   "id": "713d8014",
   "metadata": {},
   "outputs": [],
   "source": []
  }
 ],
 "metadata": {
  "kernelspec": {
   "display_name": "Python 3 (ipykernel)",
   "language": "python",
   "name": "python3"
  },
  "language_info": {
   "codemirror_mode": {
    "name": "ipython",
    "version": 3
   },
   "file_extension": ".py",
   "mimetype": "text/x-python",
   "name": "python",
   "nbconvert_exporter": "python",
   "pygments_lexer": "ipython3",
   "version": "3.9.5"
  }
 },
 "nbformat": 4,
 "nbformat_minor": 5
}
