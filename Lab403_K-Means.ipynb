{
 "cells": [
  {
   "cell_type": "code",
   "execution_count": 2,
   "metadata": {},
   "outputs": [],
   "source": [
    "import numpy as np\n",
    "import cv2\n",
    "K = 2\n",
    "\n",
    "myName = \" - PEERAWAT MEESUK\"\n",
    "img = cv2.imread('./image/house.jpg') \n",
    "#img = cv2.imread('./image/lena.jpg') \n",
    "\n",
    "Z = img.reshape ((-1,3))\n",
    "Z = np.float32 (Z)\n",
    "\n",
    "criteria = (cv2. TERM_CRITERIA_EPS + cv2. TERM_CRITERIA_MAX_ITER, 10, 1.0) \n",
    "ret, label, center=cv2.kmeans (Z,K,None, criteria, 10,cv2.KMEANS_RANDOM_CENTERS)\n",
    "\n",
    "center = np.uint8 (center) \n",
    "res = center[label.flatten ()]\n",
    "res2 = res.reshape((img.shape))\n",
    "\n",
    "cv2.imshow('Res_'+str(K)+myName, res2) \n",
    "cv2.waitKey(0) \n",
    "cv2.destroyAllWindows ( )\n"
   ]
  },
  {
   "cell_type": "code",
   "execution_count": 4,
   "metadata": {},
   "outputs": [],
   "source": [
    "import cv2 \n",
    "import numpy as np\n",
    "K = 4\n",
    "\n",
    "cap = cv2.VideoCapture(0)\n",
    "while True:\n",
    "    ret, image = cap.read() \n",
    "    cv2.imshow('Image Show', image) \n",
    "    pressedKey = cv2.waitKey(1) \n",
    "    if pressedKey == ord('q'):\n",
    "        break \n",
    "    elif pressedKey == ord('s'):\n",
    "        Z = image.reshape ((-1,3))\n",
    "        Z = np.float32 (Z)\n",
    "        \n",
    "        criteria = (cv2. TERM_CRITERIA_EPS + cv2. TERM_CRITERIA_MAX_ITER, 10, 1.0) \n",
    "        ret, label, center=cv2.kmeans (Z,K,None, criteria, 10,cv2.KMEANS_RANDOM_CENTERS)\n",
    "\n",
    "        center = np.uint8 (center) \n",
    "        res = center[label.flatten ()]\n",
    "        res2 = res.reshape((image.shape))\n",
    "\n",
    "        cv2.imshow('Result_K='+str(K), res2) \n",
    "        \n",
    "cap.release()\n",
    "cv2.destroyAllWindows ()"
   ]
  },
  {
   "cell_type": "code",
   "execution_count": null,
   "metadata": {},
   "outputs": [],
   "source": []
  }
 ],
 "metadata": {
  "kernelspec": {
   "display_name": "Python 3 (ipykernel)",
   "language": "python",
   "name": "python3"
  },
  "language_info": {
   "codemirror_mode": {
    "name": "ipython",
    "version": 3
   },
   "file_extension": ".py",
   "mimetype": "text/x-python",
   "name": "python",
   "nbconvert_exporter": "python",
   "pygments_lexer": "ipython3",
   "version": "3.9.5"
  }
 },
 "nbformat": 4,
 "nbformat_minor": 4
}
