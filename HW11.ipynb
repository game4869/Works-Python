{
 "cells": [
  {
   "cell_type": "code",
   "execution_count": null,
   "id": "1e8b2246",
   "metadata": {},
   "outputs": [],
   "source": [
    "import cv2\n",
    "import numpy as np\n",
    "myname= '62120501066 Wanchana'\n",
    "\n",
    "img=cv2.imread('C:/Users/DELL/OneDrive - King Mongkut’s University of Technology Thonburi (KMUTT)/Documents/DMT350/week9/473794_1.jpg',0)\n",
    "cv2. imshow('Original-'+myname,img)\n",
    "\n",
    "img=cv2.medianBlur(img,5)\n",
    "cimg=cv2.cvtColor(img,cv2.COLOR_GRAY2BGR)\n",
    "circles=cv2.HoughCircles(img,cv2.HOUGH_GRADIENT,1,20,param1=100,param2=51,minRadius=0,maxRadius=0)\n",
    "circles=np.uint16(np.around(circles))\n",
    "for i in circles[0,:]:\n",
    "    cv2.circle(cimg,(i[0],i[1]),i[2],(0,255,0),2)\n",
    "    cv2.circle(cimg,(i[0],i[1]),2,(0,0,255),3)\n",
    "           \n",
    "cv2.imshow('Detected circles'+myname,cimg)\n",
    "           \n",
    "cv2.waitKey(0)\n",
    "cv2.destroyAllWindows()"
   ]
  }
 ],
 "metadata": {
  "kernelspec": {
   "display_name": "Python 3 (ipykernel)",
   "language": "python",
   "name": "python3"
  },
  "language_info": {
   "codemirror_mode": {
    "name": "ipython",
    "version": 3
   },
   "file_extension": ".py",
   "mimetype": "text/x-python",
   "name": "python",
   "nbconvert_exporter": "python",
   "pygments_lexer": "ipython3",
   "version": "3.9.5"
  }
 },
 "nbformat": 4,
 "nbformat_minor": 5
}
