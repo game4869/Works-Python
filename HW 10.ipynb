{
 "cells": [
  {
   "cell_type": "code",
   "execution_count": 2,
   "id": "ff89305f",
   "metadata": {
    "scrolled": true
   },
   "outputs": [
    {
     "name": "stdout",
     "output_type": "stream",
     "text": [
      "[[113 323 144 152]\n",
      " [256 329 141 160]\n",
      " [409 286 148 180]\n",
      " [573 301 144 167]\n",
      " [710 288 130 176]\n",
      " [710 288 130 176]]\n"
     ]
    }
   ],
   "source": [
    "import cv2\n",
    "img_name = 'CGM48'\n",
    "img = cv2.imread('C:/Users/DELL/OneDrive - King Mongkut’s University of Technology Thonburi (KMUTT)/Documents/DMT350/week9/1615623011895.jpg')\n",
    "ROIS = cv2.selectROIs(img_name + \" -Master\", img)\n",
    "print(ROIS)\n",
    "\n",
    "crop_number = 0\n",
    "\n",
    "for cordinate in ROIS:\n",
    "    x1 = cordinate[0]\n",
    "    y1 = cordinate[1]\n",
    "    x2 = cordinate[2]\n",
    "    y2 = cordinate[3]\n",
    "    imCrop = img[y1:y1+y2 , x1:x1+x2]\n",
    "    cv2.imshow(\"ImgCrop No_\" + str(crop_number), imCrop)\n",
    "    crop_number += 1\n",
    "\n",
    "cv2.waitKey(0)\n",
    "cv2.destroyAllWindows()"
   ]
  },
  {
   "cell_type": "code",
   "execution_count": 3,
   "id": "4b2b4629",
   "metadata": {},
   "outputs": [
    {
     "name": "stdout",
     "output_type": "stream",
     "text": [
      "79868.0 1080 1920 50\n"
     ]
    }
   ],
   "source": [
    "import cv2\n",
    "cap=cv2.VideoCapture('C:/Users/DELL/OneDrive - King Mongkut’s University of Technology Thonburi (KMUTT)/Documents/DMT350/week9/Pocket Monsters XY&Z OP.mp4')\n",
    "frame_number=cap.get(cv2.CAP_PROP_FRAME_COUNT)\n",
    "h=int(cap.get(cv2.CAP_PROP_FRAME_HEIGHT))\n",
    "w=int(cap.get(cv2.CAP_PROP_FRAME_WIDTH))\n",
    "fps=int(cap.get(cv2.CAP_PROP_FPS))\n",
    "print(frame_number,h,w,fps)\n"
   ]
  },
  {
   "cell_type": "code",
   "execution_count": null,
   "id": "f86a0a7a",
   "metadata": {},
   "outputs": [],
   "source": [
    "import cv2\n",
    "Video_name='W10_62120501066 Wanchana'\n",
    "cap=cv2.VideoCapture('C:/Users/DELL/OneDrive - King Mongkut’s University of Technology Thonburi (KMUTT)/Documents/DMT350/week9/Pocket Monsters XY&Z OP.mp4')\n",
    "while(cap.isOpened()):\n",
    "        ret,frame=cap.read()\n",
    "        cv2. imshow(Video_name,frame)\n",
    "        if cv2.waitKey(1)&0xff==ord('q'):\n",
    "            break\n",
    "cap.release\n",
    "cv2.destroyAllwindows()"
   ]
  },
  {
   "cell_type": "code",
   "execution_count": 1,
   "id": "d4a7bc9b",
   "metadata": {},
   "outputs": [],
   "source": [
    "import cv2\n",
    "Video_name='W10_62120501066 Wanchana' \n",
    "cap=cv2.VideoCapture(0) \n",
    "while(True):\n",
    "            ret,frame=cap.read()\n",
    "            gray = cv2.cvtColor(frame , cv2.COLOR_BGR2GRAY)\n",
    "            cv2. imshow(Video_name,gray)\n",
    "            if cv2.waitKey(1)&0xff==ord('q'):\n",
    "                break\n",
    "cap.release\n",
    "cv2.destroyAllWindows()"
   ]
  },
  {
   "cell_type": "code",
   "execution_count": 5,
   "id": "96498fc7",
   "metadata": {},
   "outputs": [],
   "source": [
    "import cv2\n",
    "cap=cv2.VideoCapture('C:/Users/DELL/OneDrive - King Mongkut’s University of Technology Thonburi (KMUTT)/Documents/DMT350/week9/Present Mahidol.mp4')\n",
    "i=1\n",
    "while cap.isOpened():\n",
    "        ret, image=cap.read()\n",
    "        if ret== False :\n",
    "            break\n",
    "        cv2.imshow('Image SHOW',image) \n",
    "        cv2.imwrite('C:/Users/DELL/OneDrive - King Mongkut’s University of Technology Thonburi (KMUTT)/Documents/DMT350/week9/frame/frame'+str(i)+'.jpg',image)\n",
    "        i+=1\n",
    "        if cv2.waitKey(1)&0xff==ord('q'):\n",
    "            break\n",
    "cap.release\n",
    "cv2.destroyAllWindows()"
   ]
  },
  {
   "cell_type": "code",
   "execution_count": null,
   "id": "8ec97b7a",
   "metadata": {},
   "outputs": [],
   "source": [
    "import cv2\n",
    "import datetime\n",
    "cap=cv2.VideoCapture(0)\n",
    "while True:\n",
    "        ret,image=cap.read()\n",
    "        cv2. imshow('Image SHOW',image)\n",
    "        pressedKey = cv2.waitKey(1)\n",
    "        if pressedKey ==ord('q'): \n",
    "            break\n",
    "        elif pressedKey==ord('s'):\n",
    "            now=datetime.datetime.now().strftime('%d%m%y_%H%M%S')\n",
    "            cv2.imwrite('C:/Users/DELL/OneDrive - King Mongkut’s University of Technology Thonburi (KMUTT)/Documents/DMT350/week9/cap_'+str(now)+'.jpg ', image)\n",
    "cap.release\n",
    "cv2.destroyAllWindows()"
   ]
  },
  {
   "cell_type": "code",
   "execution_count": null,
   "id": "196dbcf4",
   "metadata": {},
   "outputs": [
    {
     "data": {
      "image/png": "[encoded data removed]",
      "text/plain": [
       "<Figure size 432x288 with 1 Axes>"
      ]
     },
     "metadata": {
      "needs_background": "light"
     },
     "output_type": "display_data"
    }
   ],
   "source": [
    "import cv2 as cv\n",
    "from matplotlib import pyplot as plt\n",
    "\n",
    "img = cv.imread('C:/Users/DELL/OneDrive - King Mongkut’s University of Technology Thonburi (KMUTT)/Documents/DMT350/week9/cap/cap_201021_220517.jpg' ,1)\n",
    "color = ( 'b' ,'g', 'r' )\n",
    "for i,col in enumerate(color):\n",
    "        histr=cv.calcHist([img],[i],None,[256],[0,256])\n",
    "        plt.plot(histr,color=col)\n",
    "        plt.xlim([0,256])\n",
    "plt.show()\n",
    "\n",
    "cv.imshow(' CV Gray ',img)\n",
    "cv.waitKey(0)\n",
    "cv.destroyAllwindows()"
   ]
  }
 ],
 "metadata": {
  "kernelspec": {
   "display_name": "Python 3 (ipykernel)",
   "language": "python",
   "name": "python3"
  },
  "language_info": {
   "codemirror_mode": {
    "name": "ipython",
    "version": 3
   },
   "file_extension": ".py",
   "mimetype": "text/x-python",
   "name": "python",
   "nbconvert_exporter": "python",
   "pygments_lexer": "ipython3",
   "version": "3.9.5"
  }
 },
 "nbformat": 4,
 "nbformat_minor": 5
}
