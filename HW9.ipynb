{
 "cells": [
  {
   "cell_type": "code",
   "execution_count": null,
   "id": "d6465ab9",
   "metadata": {},
   "outputs": [],
   "source": [
    "import cv2\n",
    "mainimg = cv2.imread('C:/Users/DELL/OneDrive - King Mongkut’s University of Technology Thonburi (KMUTT)/Documents/DMT350/week9/istockphoto-511366776-612x612.jpg')\n",
    "clone = mainimg[110:380,35:350]\n",
    "mainimg[110:380,255:570]= clone\n",
    "cv2.imshow('clone',clone)\n",
    "cv2.imshow('penguin',mainimg)\n",
    "cv2.waitKey(0)\n",
    "cv2.destroyAllwindows()"
   ]
  },
  {
   "cell_type": "code",
   "execution_count": null,
   "id": "335447cc",
   "metadata": {},
   "outputs": [],
   "source": [
    "import cv2\n",
    "import numpy as np\n",
    "img_Name = 'Mission1Pic1_byWanchana'\n",
    "import cv2\n",
    "import numpy as np\n",
    "img_Name = 'Mission1Pic1_byWanchana'\n",
    "img = cv2.imread('C:/Users/DELL/OneDrive - King Mongkut’s University of Technology Thonburi (KMUTT)/Documents/DMT350/week9/9899.jpg')\n",
    "\n",
    "overlay = img.copy()\n",
    "pts = np.array([[110,605],[48,599],[27,642],[99,647]], np.int32) \n",
    "pts = pts.reshape((-1,1, 2))\n",
    "cv2.fillPoly(overlay,[pts],(0,0,255))\n",
    "alpha = 0.5\n",
    "image_new = cv2.addWeighted(overlay, alpha, img, 1 - alpha, 0)\n",
    "\n",
    "overlay = image_new.copy()\n",
    "pts = np.array([[208,646], [213,603],[299,601],[313,644]], np.int32)\n",
    "pts = pts.reshape((-1,1,2))\n",
    "cv2.fillPoly(overlay,[pts],(255,0,0))\n",
    "alpha = 0.5\n",
    "image_new = cv2.addWeighted(overlay, alpha, img, 1 - alpha, 0)\n",
    "\n",
    "cv2.imshow(img_Name, image_new)\n",
    "cv2.waitKey(0)\n",
    "cv2.destroyAllwindows()"
   ]
  },
  {
   "cell_type": "code",
   "execution_count": null,
   "id": "540d8454",
   "metadata": {},
   "outputs": [],
   "source": []
  }
 ],
 "metadata": {
  "kernelspec": {
   "display_name": "Python 3 (ipykernel)",
   "language": "python",
   "name": "python3"
  },
  "language_info": {
   "codemirror_mode": {
    "name": "ipython",
    "version": 3
   },
   "file_extension": ".py",
   "mimetype": "text/x-python",
   "name": "python",
   "nbconvert_exporter": "python",
   "pygments_lexer": "ipython3",
   "version": "3.9.5"
  }
 },
 "nbformat": 4,
 "nbformat_minor": 5
}
